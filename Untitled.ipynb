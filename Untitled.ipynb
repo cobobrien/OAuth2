{
 "cells": [
  {
   "cell_type": "code",
   "execution_count": 1,
   "metadata": {},
   "outputs": [
    {
     "name": "stderr",
     "output_type": "stream",
     "text": [
      "Request Data {'username': 'ppf', 'password': '1234abcd'}\n",
      "Test META {'HTTP_COOKIE': '', 'PATH_INFO': '/authentication/register/', 'REMOTE_ADDR': '127.0.0.1', 'REQUEST_METHOD': 'POST', 'SCRIPT_NAME': '', 'SERVER_NAME': 'testserver', 'SERVER_PORT': '80', 'SERVER_PROTOCOL': 'HTTP/1.1', 'wsgi.version': (1, 0), 'wsgi.url_scheme': 'http', 'wsgi.input': <django.test.client.FakePayload object at 0x000002186E083240>, 'wsgi.errors': <_io.BytesIO object at 0x000002186E065A40>, 'wsgi.multiprocess': True, 'wsgi.multithread': False, 'wsgi.run_once': False, 'CONTENT_LENGTH': '40', 'CONTENT_TYPE': 'application/json; charset=None', 'header': {'Content-Type': 'application/json'}, 'QUERY_STRING': ''}\n",
      "Test Request {'grant_type': 'password', 'username': 'ppf', 'password': '1234abcd', 'client_id': 'Pwx8rU7pn8sIg1bERNVOXp8UBq9Ssx2CSUYfnjXh', 'client_secret': 'w09cYxgLW4k4ix9njUeRi8YURP3EUHpzIRX9G0Xz8mbMYYCMfSpAqVTtoaMxZbUKTvKZLiykhVTh3mAv1UiWe0ZwxNyzypeOokWDDgyySqbPgbo24jMy1MjgT5LNG2aZ'}\n",
      "Test REQUEST HEADERS {'Cookie': '', 'Content-Length': '40', 'Content-Type': 'application/json; charset=None'}\n",
      "Test Response b'{\"access_token\": \"HQkSu3R47dhdQLQ14lUROiiK7cggJy\", \"expires_in\": 36000, \"token_type\": \"Bearer\", \"scope\": \"read write\", \"refresh_token\": \"JcxF7Sqghf7QZgVZbWXWdv5Yl2fNoq\"}'\n"
     ]
    }
   ],
   "source": [
    "from rest_framework.test import APIClient\n",
    "client = APIClient()\n",
    "response = client.post('/authentication/register/', {\"username\": \"ppf\", \"password\": \"1234abcd\"},\n",
    "                       header={\"Content-Type\": \"application/json\"})\n"
   ]
  },
  {
   "cell_type": "code",
   "execution_count": 2,
   "metadata": {},
   "outputs": [],
   "source": [
    "responseJSON = response.json()"
   ]
  },
  {
   "cell_type": "code",
   "execution_count": 3,
   "metadata": {},
   "outputs": [
    {
     "data": {
      "text/plain": [
       "{'access_token': 'HQkSu3R47dhdQLQ14lUROiiK7cggJy',\n",
       " 'expires_in': 36000,\n",
       " 'token_type': 'Bearer',\n",
       " 'scope': 'read write',\n",
       " 'refresh_token': 'JcxF7Sqghf7QZgVZbWXWdv5Yl2fNoq'}"
      ]
     },
     "execution_count": 3,
     "metadata": {},
     "output_type": "execute_result"
    }
   ],
   "source": [
    "responseJSON"
   ]
  }
 ],
 "metadata": {
  "kernelspec": {
   "display_name": "Django Shell-Plus",
   "language": "python",
   "name": "django_extensions"
  },
  "language_info": {
   "codemirror_mode": {
    "name": "ipython",
    "version": 3
   },
   "file_extension": ".py",
   "mimetype": "text/x-python",
   "name": "python",
   "nbconvert_exporter": "python",
   "pygments_lexer": "ipython3",
   "version": "3.7.1"
  }
 },
 "nbformat": 4,
 "nbformat_minor": 2
}
